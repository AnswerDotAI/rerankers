{
 "cells": [
  {
   "cell_type": "code",
   "execution_count": 1,
   "metadata": {},
   "outputs": [],
   "source": [
    "from ranx import Qrels, Run"
   ]
  },
  {
   "cell_type": "code",
   "execution_count": 2,
   "metadata": {},
   "outputs": [],
   "source": [
    "qrels = Qrels.from_ir_datasets(\"beir/scifact/test\")"
   ]
  },
  {
   "cell_type": "code",
   "execution_count": 3,
   "metadata": {},
   "outputs": [
    {
     "name": "stderr",
     "output_type": "stream",
     "text": [
      "/usr/local/share/miniconda/envs/mcol/lib/python3.10/site-packages/tqdm/auto.py:21: TqdmWarning: IProgress not found. Please update jupyter and ipywidgets. See https://ipywidgets.readthedocs.io/en/stable/user_install.html\n",
      "  from .autonotebook import tqdm as notebook_tqdm\n"
     ]
    }
   ],
   "source": [
    "from rerankers import Reranker"
   ]
  },
  {
   "cell_type": "code",
   "execution_count": 4,
   "metadata": {},
   "outputs": [
    {
     "data": {
      "text/plain": [
       "{'_id': '4983',\n",
       " 'title': 'Microstructural development of human newborn cerebral white matter assessed in vivo by diffusion tensor magnetic resonance imaging.',\n",
       " 'text': 'Alterations of the architecture of cerebral white matter in the developing human brain can affect cortical development and result in functional disabilities. A line scan diffusion-weighted magnetic resonance imaging (MRI) sequence with diffusion tensor analysis was applied to measure the apparent diffusion coefficient, to calculate relative anisotropy, and to delineate three-dimensional fiber architecture in cerebral white matter in preterm (n = 17) and full-term infants (n = 7). To assess effects of prematurity on cerebral white matter development, early gestation preterm infants (n = 10) were studied a second time at term. In the central white matter the mean apparent diffusion coefficient at 28 wk was high, 1.8 microm2/ms, and decreased toward term to 1.2 microm2/ms. In the posterior limb of the internal capsule, the mean apparent diffusion coefficients at both times were similar (1.2 versus 1.1 microm2/ms). Relative anisotropy was higher the closer birth was to term with greater absolute values in the internal capsule than in the central white matter. Preterm infants at term showed higher mean diffusion coefficients in the central white matter (1.4 +/- 0.24 versus 1.15 +/- 0.09 microm2/ms, p = 0.016) and lower relative anisotropy in both areas compared with full-term infants (white matter, 10.9 +/- 0.6 versus 22.9 +/- 3.0%, p = 0.001; internal capsule, 24.0 +/- 4.44 versus 33.1 +/- 0.6% p = 0.006). Nonmyelinated fibers in the corpus callosum were visible by diffusion tensor MRI as early as 28 wk; full-term and preterm infants at term showed marked differences in white matter fiber organization. The data indicate that quantitative assessment of water diffusion by diffusion tensor MRI provides insight into microstructural development in cerebral white matter in living infants.',\n",
       " 'metadata': {}}"
      ]
     },
     "execution_count": 4,
     "metadata": {},
     "output_type": "execute_result"
    }
   ],
   "source": [
    "import srsly\n",
    "\n",
    "corpus = [x for x in srsly.read_jsonl(\"./data/scifact/corpus.jsonl\")]\n",
    "queries = [x for x in srsly.read_jsonl(\"./data/scifact/queries.jsonl\")]\n",
    "\n",
    "corpus[0]"
   ]
  },
  {
   "cell_type": "code",
   "execution_count": 5,
   "metadata": {},
   "outputs": [
    {
     "name": "stdout",
     "output_type": "stream",
     "text": [
      "Loading default colbert model for language en\n",
      "Loading ColBERTRanker model colbert-ir/colbertv2.0\n"
     ]
    }
   ],
   "source": [
    "ranker = Reranker(\"colbert\", device=\"cuda\", verbose=0)"
   ]
  },
  {
   "cell_type": "code",
   "execution_count": 6,
   "metadata": {},
   "outputs": [],
   "source": [
    "top100 = srsly.read_json(\"./data/scifact/scifact_top_100.json\")"
   ]
  },
  {
   "cell_type": "code",
   "execution_count": 7,
   "metadata": {},
   "outputs": [],
   "source": [
    "corpus_map = {x[\"_id\"]: f\"{x['title']} {x['text']}\" for x in corpus}"
   ]
  },
  {
   "cell_type": "code",
   "execution_count": 8,
   "metadata": {},
   "outputs": [
    {
     "name": "stderr",
     "output_type": "stream",
     "text": [
      " 75%|███████▌  | 226/300 [03:36<01:14,  1.01s/it]"
     ]
    }
   ],
   "source": [
    "from tqdm import tqdm\n",
    "\n",
    "qrels_dict = dict(qrels)\n",
    "queries = [q for q in queries if q[\"_id\"] in qrels_dict]\n",
    "\n",
    "scores = {}\n",
    "for q in tqdm(queries):\n",
    "    doc_ids = top100[q[\"_id\"]]\n",
    "    docs = [corpus_map[x] for x in doc_ids]\n",
    "    scores[q[\"_id\"]] = ranker.rank(q[\"text\"], docs, doc_ids=doc_ids)"
   ]
  },
  {
   "cell_type": "code",
   "execution_count": null,
   "metadata": {},
   "outputs": [],
   "source": [
    "scores_dict = {}\n",
    "for q_id, ranked_results in scores.items():\n",
    "    top_10_results = ranked_results.top_k(10)\n",
    "    scores_dict[q_id] = {result.doc_id: result.score for result in top_10_results}\n",
    "run = Run(scores_dict)"
   ]
  },
  {
   "cell_type": "code",
   "execution_count": null,
   "metadata": {},
   "outputs": [
    {
     "name": "stdout",
     "output_type": "stream",
     "text": [
      "Score is within 0.01 NDCG@10 of the reported score!\n"
     ]
    }
   ],
   "source": [
    "from ranx import evaluate\n",
    "\n",
    "evaluation_score = evaluate(qrels, run, \"ndcg@10\")\n",
    "litterature_result = 0.693  # From ColBERTv2 Paper https://arxiv.org/abs/2112.01488\n",
    "if abs(evaluation_score - litterature_result) > 0.01:\n",
    "    print(\n",
    "        f\"Score {evaluation_score:0.3f} differs by more than 0.01 from the the reported score.\"\n",
    "    )\n",
    "else:\n",
    "    print(\"Score is within 0.01 NDCG@10 of the reported score!\")"
   ]
  }
 ],
 "metadata": {
  "kernelspec": {
   "display_name": "rerankers",
   "language": "python",
   "name": "python3"
  },
  "language_info": {
   "codemirror_mode": {
    "name": "ipython",
    "version": 3
   },
   "file_extension": ".py",
   "mimetype": "text/x-python",
   "name": "python",
   "nbconvert_exporter": "python",
   "pygments_lexer": "ipython3",
   "version": "3.10.13"
  }
 },
 "nbformat": 4,
 "nbformat_minor": 2
}
